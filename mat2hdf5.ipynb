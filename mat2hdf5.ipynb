{
 "cells": [
  {
   "cell_type": "code",
   "execution_count": 1,
   "metadata": {},
   "outputs": [],
   "source": [
    "%%script C:\\Users\\Admin\\AppData\\Local\\Programs\\Python\\Python35\\python.exe\n",
    "#Run with python 3.5\n",
    "#from platform import python_version\n",
    "#print(python_version())"
   ]
  },
  {
   "cell_type": "code",
   "execution_count": 2,
   "metadata": {},
   "outputs": [],
   "source": [
    "import os\n",
    "import numpy as np\n",
    "import h5py\n",
    "import scipy.io as sio\n",
    "import pandas as pd"
   ]
  },
  {
   "cell_type": "code",
   "execution_count": 3,
   "metadata": {},
   "outputs": [],
   "source": [
    "path = '/Atrial Fibrillation/Data/sample2017/sample2017/validation' #path of the directory\n",
    "files = next(os.walk(path))[2] #roots[0], dirs[1], files[3]... Choose all files from this path\n",
    "mat_files = []\n",
    "with h5py.File('/Atrial Fibrillation/Data/hdf5_valid.h5','w') as hdf:\n",
    "    for file in files:\n",
    "        if '.mat' in file:\n",
    "            mat_files.append(file)\n",
    "            tmp = sio.loadmat(file)\n",
    "            tmp1 = np.array(tmp['val'])\n",
    "            hdf.create_dataset(file, data = tmp1)"
   ]
  },
  {
   "cell_type": "code",
   "execution_count": 4,
   "metadata": {},
   "outputs": [
    {
     "name": "stdout",
     "output_type": "stream",
     "text": [
      "Number of datasets in this file: \n",
      " 300\n"
     ]
    }
   ],
   "source": [
    "with h5py.File('/Atrial Fibrillation/Data/hdf5_valid.h5','r') as hdf:\n",
    "    ls = list(hdf.keys())\n",
    "    print('Number of datasets in this file: \\n', len(ls))"
   ]
  },
  {
   "cell_type": "code",
   "execution_count": null,
   "metadata": {},
   "outputs": [],
   "source": []
  }
 ],
 "metadata": {
  "kernelspec": {
   "display_name": "Python 3",
   "language": "python",
   "name": "python3"
  },
  "language_info": {
   "codemirror_mode": {
    "name": "ipython",
    "version": 3
   },
   "file_extension": ".py",
   "mimetype": "text/x-python",
   "name": "python",
   "nbconvert_exporter": "python",
   "pygments_lexer": "ipython3",
   "version": "3.7.1"
  }
 },
 "nbformat": 4,
 "nbformat_minor": 2
}
